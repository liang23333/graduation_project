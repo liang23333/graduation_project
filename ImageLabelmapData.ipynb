{
 "cells": [
  {
   "cell_type": "code",
   "execution_count": 1,
   "metadata": {
    "collapsed": true
   },
   "outputs": [],
   "source": [
    "import sys\n",
    "sys.path.append('/home/liang/caffe/python') #for caffe\n",
    "import caffe\n",
    "sys.path.append('/home/liang/anaconda2/lib') #for cv2\n",
    "import cv2\n",
    "import numpy as np\n",
    "from os.path import join, isfile\n",
    "import random"
   ]
  },
  {
   "cell_type": "code",
   "execution_count": 3,
   "metadata": {
    "collapsed": false
   },
   "outputs": [],
   "source": [
    "class ImageLabelmapDataLayer(caffe.Layer):\n",
    "    def setup(self, bottom, top):\n",
    "        params = eval(self.param_str)\n",
    "        self.root=params['root']\n",
    "        self.source=params['source']\n",
    "        self.mean = np.array(params['mean'],dtype=np.float32)\n",
    "        self.shuffle = bool(params['shuffle'])\n",
    "        with open(join(self.root,self.source),'r') as f:\n",
    "            self.filelist=f.readlines()\n",
    "        if self.shuffle:\n",
    "            random.shuffle(self.filelist)\n",
    "        self.idx=0\n",
    "        top[0].reshape(1,3,100,100)\n",
    "        top[1].reshape(1,1,100,100)\n",
    "    def reshape(self,bottom,top):\n",
    "        \"reshape in forward\"\n",
    "        pass\n",
    "    def forward(self,bottom,top):\n",
    "        [imgfile,lbfile]=self.filelist[idx].split()\n",
    "        [imgfile,lbfile]=join(self.root,imgfile),join(self.root,lbfile)\n",
    "        img=cv2.imread(imgfile).astype(np.float32)\n",
    "        lb=cv2.imread(lbfile,0).astype(np.float32) #灰度图\n",
    "        if img.ndim==2:\n",
    "            img=img[:,:,np.newaxis]\n",
    "            img=np.repeat(img,3,2)\n",
    "        img=img-self.mean\n",
    "        img=np.transpose(img,(2,0,1))\n",
    "        img=img[np.newaxis,:,:,:]\n",
    "        if lb.ndim!=2:\n",
    "            raise Exception('lable shape error')\n",
    "        if(lb.shape[0]!=img.shape[2] or lb.shape[1]!=img.shape[3]):\n",
    "            raise Exception('label and image shape error')\n",
    "        for i in range(lb.shape[0]):\n",
    "            for j in range(lb.shape[1]):\n",
    "                if lb[i,j]>255*0.5:\n",
    "                    lb[i,j]=1\n",
    "                elif lb[i,j]!=0:\n",
    "                    lb[i,j]/=255.0\n",
    "                else:\n",
    "                    lb[i,j]=0\n",
    "        lb=lb[np.newaxis,np.newaxis,:,:]\n",
    "        top[0].reshape(1,3,img.shape[2],img.shape[3])\n",
    "        top[1].reshape(1,1,lb.shape[2],lb.shape[3])\n",
    "        top[0].data[...]=img\n",
    "        top[1].data[...]=lb\n",
    "        if self.idx == len(self.filelist)-1:\n",
    "            print(\"Restarting data prefetcing from start.\")\n",
    "            random.shuffle(self.filelist)\n",
    "            self.idx=0\n",
    "        else:\n",
    "            self.idx=self.idx+1\n",
    "    def backward(self,top,propagate_down,bottom):\n",
    "        #no need\n",
    "        pass\n",
    "        "
   ]
  },
  {
   "cell_type": "code",
   "execution_count": 6,
   "metadata": {
    "collapsed": false
   },
   "outputs": [
    {
     "name": "stdout",
     "output_type": "stream",
     "text": [
      "['__call__', '__class__', '__cmp__', '__delattr__', '__doc__', '__eq__', '__format__', '__ge__', '__getattribute__', '__gt__', '__hash__', '__init__', '__le__', '__lt__', '__module__', '__name__', '__ne__', '__new__', '__reduce__', '__reduce_ex__', '__repr__', '__self__', '__setattr__', '__sizeof__', '__str__', '__subclasshook__']\n"
     ]
    }
   ],
   "source": [
    "\n"
   ]
  },
  {
   "cell_type": "code",
   "execution_count": 7,
   "metadata": {
    "collapsed": false
   },
   "outputs": [
    {
     "name": "stdout",
     "output_type": "stream",
     "text": [
      "Help on built-in function imread:\n",
      "\n",
      "imread(...)\n",
      "    imread(filename[, flags]) -> retval\n",
      "\n"
     ]
    }
   ],
   "source": []
  },
  {
   "cell_type": "code",
   "execution_count": 12,
   "metadata": {
    "collapsed": true
   },
   "outputs": [],
   "source": []
  },
  {
   "cell_type": "code",
   "execution_count": 13,
   "metadata": {
    "collapsed": false
   },
   "outputs": [
    {
     "name": "stdout",
     "output_type": "stream",
     "text": [
      "<type 'numpy.ndarray'>\n"
     ]
    }
   ],
   "source": []
  },
  {
   "cell_type": "code",
   "execution_count": 14,
   "metadata": {
    "collapsed": false
   },
   "outputs": [
    {
     "name": "stdout",
     "output_type": "stream",
     "text": [
      "(360, 480)\n"
     ]
    }
   ],
   "source": []
  },
  {
   "cell_type": "code",
   "execution_count": 15,
   "metadata": {
    "collapsed": false
   },
   "outputs": [
    {
     "name": "stdout",
     "output_type": "stream",
     "text": [
      "2\n"
     ]
    }
   ],
   "source": []
  },
  {
   "cell_type": "code",
   "execution_count": 16,
   "metadata": {
    "collapsed": true
   },
   "outputs": [],
   "source": []
  },
  {
   "cell_type": "code",
   "execution_count": 17,
   "metadata": {
    "collapsed": false
   },
   "outputs": [
    {
     "name": "stdout",
     "output_type": "stream",
     "text": [
      "(360, 480, 1)\n"
     ]
    }
   ],
   "source": []
  },
  {
   "cell_type": "code",
   "execution_count": 20,
   "metadata": {
    "collapsed": false
   },
   "outputs": [
    {
     "name": "stdout",
     "output_type": "stream",
     "text": [
      "[ 47.  47.  47.  48.  50.  49.  50.  51.  53.  53.  51.  53.  55.  56.  56.\n",
      "  56.  55.  55.  55.  52.]\n"
     ]
    }
   ],
   "source": []
  },
  {
   "cell_type": "code",
   "execution_count": 22,
   "metadata": {
    "collapsed": false
   },
   "outputs": [],
   "source": []
  },
  {
   "cell_type": "code",
   "execution_count": null,
   "metadata": {
    "collapsed": true
   },
   "outputs": [],
   "source": []
  }
 ],
 "metadata": {
  "kernelspec": {
   "display_name": "Python [Root]",
   "language": "python",
   "name": "Python [Root]"
  },
  "language_info": {
   "codemirror_mode": {
    "name": "ipython",
    "version": 2
   },
   "file_extension": ".py",
   "mimetype": "text/x-python",
   "name": "python",
   "nbconvert_exporter": "python",
   "pygments_lexer": "ipython2",
   "version": "2.7.12"
  }
 },
 "nbformat": 4,
 "nbformat_minor": 0
}
